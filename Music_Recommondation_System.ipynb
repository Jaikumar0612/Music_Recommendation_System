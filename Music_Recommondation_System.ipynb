{
 "cells": [
  {
   "cell_type": "code",
   "execution_count": 1,
   "id": "7d7c9756",
   "metadata": {},
   "outputs": [],
   "source": [
    "#importing required libraries\n",
    "import pandas as pd\n",
    "import numpy as np"
   ]
  },
  {
   "cell_type": "code",
   "execution_count": 2,
   "id": "25e313d1",
   "metadata": {},
   "outputs": [],
   "source": [
    "#importing the dataset\n",
    "df=pd.read_csv(\"C:/Users/HP/Downloads/spotify_millsongdata.csv\")"
   ]
  },
  {
   "cell_type": "code",
   "execution_count": 3,
   "id": "2792a358",
   "metadata": {},
   "outputs": [
    {
     "data": {
      "text/html": [
       "<div>\n",
       "<style scoped>\n",
       "    .dataframe tbody tr th:only-of-type {\n",
       "        vertical-align: middle;\n",
       "    }\n",
       "\n",
       "    .dataframe tbody tr th {\n",
       "        vertical-align: top;\n",
       "    }\n",
       "\n",
       "    .dataframe thead th {\n",
       "        text-align: right;\n",
       "    }\n",
       "</style>\n",
       "<table border=\"1\" class=\"dataframe\">\n",
       "  <thead>\n",
       "    <tr style=\"text-align: right;\">\n",
       "      <th></th>\n",
       "      <th>artist</th>\n",
       "      <th>song</th>\n",
       "      <th>link</th>\n",
       "      <th>text</th>\n",
       "    </tr>\n",
       "  </thead>\n",
       "  <tbody>\n",
       "    <tr>\n",
       "      <th>0</th>\n",
       "      <td>ABBA</td>\n",
       "      <td>Ahe's My Kind Of Girl</td>\n",
       "      <td>/a/abba/ahes+my+kind+of+girl_20598417.html</td>\n",
       "      <td>Look at her face, it's a wonderful face  \\r\\nA...</td>\n",
       "    </tr>\n",
       "    <tr>\n",
       "      <th>1</th>\n",
       "      <td>ABBA</td>\n",
       "      <td>Andante, Andante</td>\n",
       "      <td>/a/abba/andante+andante_20002708.html</td>\n",
       "      <td>Take it easy with me, please  \\r\\nTouch me gen...</td>\n",
       "    </tr>\n",
       "    <tr>\n",
       "      <th>2</th>\n",
       "      <td>ABBA</td>\n",
       "      <td>As Good As New</td>\n",
       "      <td>/a/abba/as+good+as+new_20003033.html</td>\n",
       "      <td>I'll never know why I had to go  \\r\\nWhy I had...</td>\n",
       "    </tr>\n",
       "    <tr>\n",
       "      <th>3</th>\n",
       "      <td>ABBA</td>\n",
       "      <td>Bang</td>\n",
       "      <td>/a/abba/bang_20598415.html</td>\n",
       "      <td>Making somebody happy is a question of give an...</td>\n",
       "    </tr>\n",
       "    <tr>\n",
       "      <th>4</th>\n",
       "      <td>ABBA</td>\n",
       "      <td>Bang-A-Boomerang</td>\n",
       "      <td>/a/abba/bang+a+boomerang_20002668.html</td>\n",
       "      <td>Making somebody happy is a question of give an...</td>\n",
       "    </tr>\n",
       "  </tbody>\n",
       "</table>\n",
       "</div>"
      ],
      "text/plain": [
       "  artist                   song                                        link  \\\n",
       "0   ABBA  Ahe's My Kind Of Girl  /a/abba/ahes+my+kind+of+girl_20598417.html   \n",
       "1   ABBA       Andante, Andante       /a/abba/andante+andante_20002708.html   \n",
       "2   ABBA         As Good As New        /a/abba/as+good+as+new_20003033.html   \n",
       "3   ABBA                   Bang                  /a/abba/bang_20598415.html   \n",
       "4   ABBA       Bang-A-Boomerang      /a/abba/bang+a+boomerang_20002668.html   \n",
       "\n",
       "                                                text  \n",
       "0  Look at her face, it's a wonderful face  \\r\\nA...  \n",
       "1  Take it easy with me, please  \\r\\nTouch me gen...  \n",
       "2  I'll never know why I had to go  \\r\\nWhy I had...  \n",
       "3  Making somebody happy is a question of give an...  \n",
       "4  Making somebody happy is a question of give an...  "
      ]
     },
     "execution_count": 3,
     "metadata": {},
     "output_type": "execute_result"
    }
   ],
   "source": [
    "#checking the dataset\n",
    "df.head()"
   ]
  },
  {
   "cell_type": "code",
   "execution_count": 4,
   "id": "df105394",
   "metadata": {},
   "outputs": [
    {
     "data": {
      "text/html": [
       "<div>\n",
       "<style scoped>\n",
       "    .dataframe tbody tr th:only-of-type {\n",
       "        vertical-align: middle;\n",
       "    }\n",
       "\n",
       "    .dataframe tbody tr th {\n",
       "        vertical-align: top;\n",
       "    }\n",
       "\n",
       "    .dataframe thead th {\n",
       "        text-align: right;\n",
       "    }\n",
       "</style>\n",
       "<table border=\"1\" class=\"dataframe\">\n",
       "  <thead>\n",
       "    <tr style=\"text-align: right;\">\n",
       "      <th></th>\n",
       "      <th>artist</th>\n",
       "      <th>song</th>\n",
       "      <th>link</th>\n",
       "      <th>text</th>\n",
       "    </tr>\n",
       "  </thead>\n",
       "  <tbody>\n",
       "    <tr>\n",
       "      <th>57645</th>\n",
       "      <td>Ziggy Marley</td>\n",
       "      <td>Good Old Days</td>\n",
       "      <td>/z/ziggy+marley/good+old+days_10198588.html</td>\n",
       "      <td>Irie days come on play  \\r\\nLet the angels fly...</td>\n",
       "    </tr>\n",
       "    <tr>\n",
       "      <th>57646</th>\n",
       "      <td>Ziggy Marley</td>\n",
       "      <td>Hand To Mouth</td>\n",
       "      <td>/z/ziggy+marley/hand+to+mouth_20531167.html</td>\n",
       "      <td>Power to the workers  \\r\\nMore power  \\r\\nPowe...</td>\n",
       "    </tr>\n",
       "    <tr>\n",
       "      <th>57647</th>\n",
       "      <td>Zwan</td>\n",
       "      <td>Come With Me</td>\n",
       "      <td>/z/zwan/come+with+me_20148981.html</td>\n",
       "      <td>all you need  \\r\\nis something i'll believe  \\...</td>\n",
       "    </tr>\n",
       "    <tr>\n",
       "      <th>57648</th>\n",
       "      <td>Zwan</td>\n",
       "      <td>Desire</td>\n",
       "      <td>/z/zwan/desire_20148986.html</td>\n",
       "      <td>northern star  \\r\\nam i frightened  \\r\\nwhere ...</td>\n",
       "    </tr>\n",
       "    <tr>\n",
       "      <th>57649</th>\n",
       "      <td>Zwan</td>\n",
       "      <td>Heartsong</td>\n",
       "      <td>/z/zwan/heartsong_20148991.html</td>\n",
       "      <td>come in  \\r\\nmake yourself at home  \\r\\ni'm a ...</td>\n",
       "    </tr>\n",
       "  </tbody>\n",
       "</table>\n",
       "</div>"
      ],
      "text/plain": [
       "             artist           song  \\\n",
       "57645  Ziggy Marley  Good Old Days   \n",
       "57646  Ziggy Marley  Hand To Mouth   \n",
       "57647          Zwan   Come With Me   \n",
       "57648          Zwan         Desire   \n",
       "57649          Zwan      Heartsong   \n",
       "\n",
       "                                              link  \\\n",
       "57645  /z/ziggy+marley/good+old+days_10198588.html   \n",
       "57646  /z/ziggy+marley/hand+to+mouth_20531167.html   \n",
       "57647           /z/zwan/come+with+me_20148981.html   \n",
       "57648                 /z/zwan/desire_20148986.html   \n",
       "57649              /z/zwan/heartsong_20148991.html   \n",
       "\n",
       "                                                    text  \n",
       "57645  Irie days come on play  \\r\\nLet the angels fly...  \n",
       "57646  Power to the workers  \\r\\nMore power  \\r\\nPowe...  \n",
       "57647  all you need  \\r\\nis something i'll believe  \\...  \n",
       "57648  northern star  \\r\\nam i frightened  \\r\\nwhere ...  \n",
       "57649  come in  \\r\\nmake yourself at home  \\r\\ni'm a ...  "
      ]
     },
     "execution_count": 4,
     "metadata": {},
     "output_type": "execute_result"
    }
   ],
   "source": [
    "df.tail()"
   ]
  },
  {
   "cell_type": "code",
   "execution_count": 5,
   "id": "40a37206",
   "metadata": {},
   "outputs": [
    {
     "data": {
      "text/plain": [
       "(57650, 4)"
      ]
     },
     "execution_count": 5,
     "metadata": {},
     "output_type": "execute_result"
    }
   ],
   "source": [
    "#displaying the shape of the dataset\n",
    "df.shape"
   ]
  },
  {
   "cell_type": "code",
   "execution_count": 6,
   "id": "43b8d52a",
   "metadata": {},
   "outputs": [
    {
     "data": {
      "text/plain": [
       "artist    0\n",
       "song      0\n",
       "link      0\n",
       "text      0\n",
       "dtype: int64"
      ]
     },
     "execution_count": 6,
     "metadata": {},
     "output_type": "execute_result"
    }
   ],
   "source": [
    "#checking the null values\n",
    "df.isnull().sum()"
   ]
  },
  {
   "cell_type": "code",
   "execution_count": 7,
   "id": "7833c67b",
   "metadata": {},
   "outputs": [],
   "source": [
    "#dropping the link column and taking 20000 samples the systems gpu supports at that limit\n",
    "df=df.sample(20000).drop('link',axis=1).reset_index(drop=True)"
   ]
  },
  {
   "cell_type": "code",
   "execution_count": 8,
   "id": "b621f09d",
   "metadata": {},
   "outputs": [
    {
     "data": {
      "text/html": [
       "<div>\n",
       "<style scoped>\n",
       "    .dataframe tbody tr th:only-of-type {\n",
       "        vertical-align: middle;\n",
       "    }\n",
       "\n",
       "    .dataframe tbody tr th {\n",
       "        vertical-align: top;\n",
       "    }\n",
       "\n",
       "    .dataframe thead th {\n",
       "        text-align: right;\n",
       "    }\n",
       "</style>\n",
       "<table border=\"1\" class=\"dataframe\">\n",
       "  <thead>\n",
       "    <tr style=\"text-align: right;\">\n",
       "      <th></th>\n",
       "      <th>artist</th>\n",
       "      <th>song</th>\n",
       "      <th>text</th>\n",
       "    </tr>\n",
       "  </thead>\n",
       "  <tbody>\n",
       "    <tr>\n",
       "      <th>0</th>\n",
       "      <td>Cheap Trick</td>\n",
       "      <td>Daddy Should Have Stayed In High School</td>\n",
       "      <td>I've been waiting every night after school  \\r...</td>\n",
       "    </tr>\n",
       "    <tr>\n",
       "      <th>1</th>\n",
       "      <td>James Taylor</td>\n",
       "      <td>Kootch's Song</td>\n",
       "      <td>She is frenzied to the point of pain.  \\r\\nShe...</td>\n",
       "    </tr>\n",
       "    <tr>\n",
       "      <th>2</th>\n",
       "      <td>Andy Williams</td>\n",
       "      <td>The Impossible Dream</td>\n",
       "      <td>To dream the impossible dream  \\r\\nTo fight th...</td>\n",
       "    </tr>\n",
       "    <tr>\n",
       "      <th>3</th>\n",
       "      <td>Neil Young</td>\n",
       "      <td>4-Way Street Medley</td>\n",
       "      <td>He's a perfect stranger  \\r\\nLike a cross of h...</td>\n",
       "    </tr>\n",
       "    <tr>\n",
       "      <th>4</th>\n",
       "      <td>Glen Campbell</td>\n",
       "      <td>Once More With Feeling</td>\n",
       "      <td>We're just goin' through the motions  \\r\\nOf t...</td>\n",
       "    </tr>\n",
       "  </tbody>\n",
       "</table>\n",
       "</div>"
      ],
      "text/plain": [
       "          artist                                     song  \\\n",
       "0    Cheap Trick  Daddy Should Have Stayed In High School   \n",
       "1   James Taylor                            Kootch's Song   \n",
       "2  Andy Williams                     The Impossible Dream   \n",
       "3     Neil Young                      4-Way Street Medley   \n",
       "4  Glen Campbell                   Once More With Feeling   \n",
       "\n",
       "                                                text  \n",
       "0  I've been waiting every night after school  \\r...  \n",
       "1  She is frenzied to the point of pain.  \\r\\nShe...  \n",
       "2  To dream the impossible dream  \\r\\nTo fight th...  \n",
       "3  He's a perfect stranger  \\r\\nLike a cross of h...  \n",
       "4  We're just goin' through the motions  \\r\\nOf t...  "
      ]
     },
     "execution_count": 8,
     "metadata": {},
     "output_type": "execute_result"
    }
   ],
   "source": [
    "#after removing the link column the data will become like this\n",
    "df.head()"
   ]
  },
  {
   "cell_type": "code",
   "execution_count": 9,
   "id": "8b9e44ec",
   "metadata": {},
   "outputs": [
    {
     "data": {
      "text/plain": [
       "\"I've been waiting every night after school  \\r\\nFor five long years, five long years!  \\r\\nI'll keep waiting there for five nights a week  \\r\\n'Cause I'm no fool  \\r\\n  \\r\\nOoh reeling and a-rocking  \\r\\nRolling till the break of  \\r\\nOoh reeling and a-rocking  \\r\\nRolling till the school breaks out  \\r\\n  \\r\\nI'm thirty, but I feel like sixteen  \\r\\nI might even know your daddy  \\r\\nI'm dirty, but my body is clean  \\r\\nI might even be your daddy  \\r\\n  \\r\\nOoh reeling and a-rocking  \\r\\nRolling till the break of  \\r\\nOoh reeling and a-rocking  \\r\\nRolling till the break of  \\r\\n  \\r\\nI like you, will you like me, yes!  \\r\\nSorry, but I have to grab you  \\r\\nYou look better completely undressed  \\r\\nSorry, but I have to have you  \\r\\n  \\r\\nI'm thirty, but I feel like sixteen  \\r\\nHow would you like some candy?  \\r\\nI'm thinking more than a kiss  \\r\\nWith me, spank me, grab me\\r\\n\\r\\n\""
      ]
     },
     "execution_count": 9,
     "metadata": {},
     "output_type": "execute_result"
    }
   ],
   "source": [
    "#detailed view of the text column(only one row)\n",
    "df['text'][0]"
   ]
  },
  {
   "cell_type": "code",
   "execution_count": 10,
   "id": "72178e87",
   "metadata": {},
   "outputs": [],
   "source": [
    "#Text preprocessing\n",
    "#converting the data into lower case letters and removing all \\n values in the text\n",
    "df['text']=df['text'].str.lower().replace(r'^\\w\\s',' ').replace(r'\\n',' ',regex=True)"
   ]
  },
  {
   "cell_type": "code",
   "execution_count": 25,
   "id": "b2f4a7d6",
   "metadata": {},
   "outputs": [
    {
     "data": {
      "text/plain": [
       "\"i've been waiting every night after school  \\r for five long years, five long years!  \\r i'll keep waiting there for five nights a week  \\r 'cause i'm no fool  \\r   \\r ooh reeling and a-rocking  \\r rolling till the break of  \\r ooh reeling and a-rocking  \\r rolling till the school breaks out  \\r   \\r i'm thirty, but i feel like sixteen  \\r i might even know your daddy  \\r i'm dirty, but my body is clean  \\r i might even be your daddy  \\r   \\r ooh reeling and a-rocking  \\r rolling till the break of  \\r ooh reeling and a-rocking  \\r rolling till the break of  \\r   \\r i like you, will you like me, yes!  \\r sorry, but i have to grab you  \\r you look better completely undressed  \\r sorry, but i have to have you  \\r   \\r i'm thirty, but i feel like sixteen  \\r how would you like some candy?  \\r i'm thinking more than a kiss  \\r with me, spank me, grab me\\r \\r \""
      ]
     },
     "execution_count": 25,
     "metadata": {},
     "output_type": "execute_result"
    }
   ],
   "source": [
    "df['text'][0]"
   ]
  },
  {
   "cell_type": "code",
   "execution_count": 26,
   "id": "541b36c5",
   "metadata": {},
   "outputs": [
    {
     "data": {
      "text/html": [
       "<div>\n",
       "<style scoped>\n",
       "    .dataframe tbody tr th:only-of-type {\n",
       "        vertical-align: middle;\n",
       "    }\n",
       "\n",
       "    .dataframe tbody tr th {\n",
       "        vertical-align: top;\n",
       "    }\n",
       "\n",
       "    .dataframe thead th {\n",
       "        text-align: right;\n",
       "    }\n",
       "</style>\n",
       "<table border=\"1\" class=\"dataframe\">\n",
       "  <thead>\n",
       "    <tr style=\"text-align: right;\">\n",
       "      <th></th>\n",
       "      <th>artist</th>\n",
       "      <th>song</th>\n",
       "      <th>text</th>\n",
       "    </tr>\n",
       "  </thead>\n",
       "  <tbody>\n",
       "    <tr>\n",
       "      <th>19995</th>\n",
       "      <td>Dan Fogelberg</td>\n",
       "      <td>A Voice For Peace</td>\n",
       "      <td>you know that everybody has a voice  \\r and ho...</td>\n",
       "    </tr>\n",
       "    <tr>\n",
       "      <th>19996</th>\n",
       "      <td>The Monkees</td>\n",
       "      <td>Tell Me Love</td>\n",
       "      <td>oh tell me, love, and tell me truly  \\r do you...</td>\n",
       "    </tr>\n",
       "    <tr>\n",
       "      <th>19997</th>\n",
       "      <td>Gino Vannelli</td>\n",
       "      <td>It's Over</td>\n",
       "      <td>you go through the motions  \\r of a woman in l...</td>\n",
       "    </tr>\n",
       "    <tr>\n",
       "      <th>19998</th>\n",
       "      <td>Lynyrd Skynyrd</td>\n",
       "      <td>I Ain't The One</td>\n",
       "      <td>now i'll tell you plainly, baby, what a plan t...</td>\n",
       "    </tr>\n",
       "    <tr>\n",
       "      <th>19999</th>\n",
       "      <td>Indigo Girls</td>\n",
       "      <td>It's Alright</td>\n",
       "      <td>it's alright forty days of rain  \\r my skin st...</td>\n",
       "    </tr>\n",
       "  </tbody>\n",
       "</table>\n",
       "</div>"
      ],
      "text/plain": [
       "               artist               song  \\\n",
       "19995   Dan Fogelberg  A Voice For Peace   \n",
       "19996     The Monkees       Tell Me Love   \n",
       "19997   Gino Vannelli          It's Over   \n",
       "19998  Lynyrd Skynyrd    I Ain't The One   \n",
       "19999    Indigo Girls       It's Alright   \n",
       "\n",
       "                                                    text  \n",
       "19995  you know that everybody has a voice  \\r and ho...  \n",
       "19996  oh tell me, love, and tell me truly  \\r do you...  \n",
       "19997  you go through the motions  \\r of a woman in l...  \n",
       "19998  now i'll tell you plainly, baby, what a plan t...  \n",
       "19999  it's alright forty days of rain  \\r my skin st...  "
      ]
     },
     "execution_count": 26,
     "metadata": {},
     "output_type": "execute_result"
    }
   ],
   "source": [
    "df.tail()"
   ]
  },
  {
   "cell_type": "code",
   "execution_count": 12,
   "id": "2a56e710",
   "metadata": {},
   "outputs": [],
   "source": [
    "#importing nltk library for tokenization of the text columns\n",
    "import nltk\n",
    "from nltk.stem.porter import PorterStemmer"
   ]
  },
  {
   "cell_type": "code",
   "execution_count": 13,
   "id": "621e048d",
   "metadata": {},
   "outputs": [],
   "source": [
    "stemmer=PorterStemmer()"
   ]
  },
  {
   "cell_type": "code",
   "execution_count": 14,
   "id": "1b56b718",
   "metadata": {},
   "outputs": [],
   "source": [
    "#creating the function for the tokenize each row in the dataset\n",
    "def token(text):\n",
    "    token=nltk.word_tokenize(text)\n",
    "    l=[stemmer.stem(w) for w in token]\n",
    "    return \" \".join(l)"
   ]
  },
  {
   "cell_type": "code",
   "execution_count": 15,
   "id": "549e6793",
   "metadata": {},
   "outputs": [
    {
     "data": {
      "text/plain": [
       "'you are beauti , beauti'"
      ]
     },
     "execution_count": 15,
     "metadata": {},
     "output_type": "execute_result"
    }
   ],
   "source": [
    "#taking example for the token() function whether its working or not\n",
    "token(\"you are beautiful,beauty\")"
   ]
  },
  {
   "cell_type": "code",
   "execution_count": 16,
   "id": "582819fb",
   "metadata": {},
   "outputs": [
    {
     "data": {
      "text/plain": [
       "0        i 've been wait everi night after school for f...\n",
       "1        she is frenzi to the point of pain . she is co...\n",
       "2        to dream the imposs dream to fight the unbeat ...\n",
       "3        he 's a perfect stranger like a cross of himse...\n",
       "4        we 're just goin ' through the motion of the p...\n",
       "                               ...                        \n",
       "19995    you know that everybodi ha a voic and how they...\n",
       "19996    oh tell me , love , and tell me truli do you b...\n",
       "19997    you go through the motion of a woman in love e...\n",
       "19998    now i 'll tell you plainli , babi , what a pla...\n",
       "19999    it 's alright forti day of rain my skin stretc...\n",
       "Name: text, Length: 20000, dtype: object"
      ]
     },
     "execution_count": 16,
     "metadata": {},
     "output_type": "execute_result"
    }
   ],
   "source": [
    "#applying token() function to all the columns in the dataset\n",
    "df['text'].apply(lambda x : token(x))"
   ]
  },
  {
   "cell_type": "code",
   "execution_count": 17,
   "id": "7e66e502",
   "metadata": {},
   "outputs": [],
   "source": [
    "#importing feature extraction module for converting the text column to the vector form\n",
    "#and also importing cosine_similarity module to find cosine_similarity\n",
    "from sklearn.feature_extraction.text import TfidfVectorizer\n",
    "from sklearn.metrics.pairwise import cosine_similarity"
   ]
  },
  {
   "cell_type": "code",
   "execution_count": 18,
   "id": "581380e2",
   "metadata": {},
   "outputs": [],
   "source": [
    "#creating a object for the tfidfvectorization to fit the text column\n",
    "tfid=TfidfVectorizer(analyzer='word',stop_words='english')"
   ]
  },
  {
   "cell_type": "code",
   "execution_count": 19,
   "id": "2eec9e1c",
   "metadata": {},
   "outputs": [],
   "source": [
    "#transform the text into vectors\n",
    "matrix=tfid.fit_transform(df['text'])"
   ]
  },
  {
   "cell_type": "code",
   "execution_count": 21,
   "id": "a011a7ce",
   "metadata": {},
   "outputs": [],
   "source": [
    "#finding the cosine_similarity for the matrix\n",
    "cosine_similarity=cosine_similarity(matrix)"
   ]
  },
  {
   "cell_type": "code",
   "execution_count": 22,
   "id": "2a1221ec",
   "metadata": {},
   "outputs": [
    {
     "data": {
      "text/plain": [
       "array([1.        , 0.00179745, 0.00809962, ..., 0.02322021, 0.04399811,\n",
       "       0.0147269 ])"
      ]
     },
     "execution_count": 22,
     "metadata": {},
     "output_type": "execute_result"
    }
   ],
   "source": [
    "#displaying the 0th index values in the cosine_similarity function\n",
    "cosine_similarity[0]"
   ]
  },
  {
   "cell_type": "code",
   "execution_count": 38,
   "id": "e0a16115",
   "metadata": {},
   "outputs": [],
   "source": [
    "#creating recommendation function\n",
    "def recommender(song_name):\n",
    "    idx=df[df['song']==song_name].index[0]\n",
    "    distance=sorted(list(enumerate(cosine_similarity[idx])),reverse=True,key=lambda x:x[1])\n",
    "    song=[]\n",
    "    for s_id in distance[1:20]:\n",
    "        song.append(df.iloc[s_id[0]].song)\n",
    "    return song"
   ]
  },
  {
   "cell_type": "code",
   "execution_count": 39,
   "id": "d9c88331",
   "metadata": {},
   "outputs": [
    {
     "data": {
      "text/plain": [
       "['Never Say Goodbye',\n",
       " 'Goodbye Love',\n",
       " 'Say Goodbye To Hollywood',\n",
       " 'Goodbye',\n",
       " 'Say Goodbye',\n",
       " 'Goodbye',\n",
       " \"Can't Say Goodbye\",\n",
       " 'So Now Goodbye',\n",
       " 'Say Goodbye',\n",
       " \"I Don't Know How To Say Goodbye\",\n",
       " 'Goodbye To You',\n",
       " '8-Ball',\n",
       " 'Oh Me, Oh My Sweet Baby',\n",
       " 'Goodbye In Her Eyes',\n",
       " 'Goodbye Girl',\n",
       " 'Goodbye Bye Bye Bye',\n",
       " 'May You Never Be Alone Like Me',\n",
       " 'Long, Long Way To Go',\n",
       " 'Goodbye']"
      ]
     },
     "execution_count": 39,
     "metadata": {},
     "output_type": "execute_result"
    }
   ],
   "source": [
    "#calling the recommendation function to recommend the songs\n",
    "recommender(\"Sorry\")"
   ]
  },
  {
   "cell_type": "code",
   "execution_count": null,
   "id": "85ecc436",
   "metadata": {},
   "outputs": [],
   "source": []
  }
 ],
 "metadata": {
  "kernelspec": {
   "display_name": "Python 3 (ipykernel)",
   "language": "python",
   "name": "python3"
  },
  "language_info": {
   "codemirror_mode": {
    "name": "ipython",
    "version": 3
   },
   "file_extension": ".py",
   "mimetype": "text/x-python",
   "name": "python",
   "nbconvert_exporter": "python",
   "pygments_lexer": "ipython3",
   "version": "3.10.9"
  }
 },
 "nbformat": 4,
 "nbformat_minor": 5
}
